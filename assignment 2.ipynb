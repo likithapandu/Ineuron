{
 "cells": [
  {
   "cell_type": "code",
   "execution_count": 8,
   "metadata": {},
   "outputs": [
    {
     "name": "stdout",
     "output_type": "stream",
     "text": [
      "*  \n",
      "* *  \n",
      "* * *  \n",
      "* * * *  \n",
      "* * * * *  \n",
      "* * * *  \n",
      "* * *  \n",
      "* *  \n",
      "*  \n",
      " \n"
     ]
    }
   ],
   "source": [
    "def pattern(n):\n",
    "    for i in range(0, n):  #row\n",
    "        for j in range(0, i + 1): #column  \n",
    "            print(\"* \", end=\"\")  \n",
    "        print(\" \")\n",
    "def reverse_pattern(n1):\n",
    "    for i in range(n1 + 1, 0, -1):    \n",
    "        for j in range(0, i - 1):  \n",
    "            print(\"*\", end=' ')  \n",
    "        print(\" \")  \n",
    "        \n",
    "n=5\n",
    "n1=4\n",
    "pattern(n)\n",
    "reverse_pattern(n1)"
   ]
  },
  {
   "cell_type": "code",
   "execution_count": 9,
   "metadata": {},
   "outputs": [
    {
     "name": "stdout",
     "output_type": "stream",
     "text": [
      "Input Word:ineuron\n",
      "Output Word: norueni\n"
     ]
    }
   ],
   "source": [
    "word=input(\"Input Word:\")\n",
    "print(\"Output Word:\", word [::-1])"
   ]
  },
  {
   "cell_type": "code",
   "execution_count": null,
   "metadata": {},
   "outputs": [],
   "source": []
  }
 ],
 "metadata": {
  "kernelspec": {
   "display_name": "Python 3",
   "language": "python",
   "name": "python3"
  },
  "language_info": {
   "codemirror_mode": {
    "name": "ipython",
    "version": 3
   },
   "file_extension": ".py",
   "mimetype": "text/x-python",
   "name": "python",
   "nbconvert_exporter": "python",
   "pygments_lexer": "ipython3",
   "version": "3.8.5"
  }
 },
 "nbformat": 4,
 "nbformat_minor": 4
}
